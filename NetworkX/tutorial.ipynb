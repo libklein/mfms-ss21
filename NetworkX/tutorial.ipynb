{
 "cells": [
  {
   "cell_type": "markdown",
   "metadata": {
    "pycharm": {
     "name": "#%% md\n"
    },
    "slideshow": {
     "slide_type": "slide"
    }
   },
   "source": [
    "# Live Coding Session 1\n",
    "### Installation\n",
    "#### Terminal\n",
    "```bash\n",
    "git clone https://github.com/libklein/mfms-ss21\n",
    "cd mfms-ss\n",
    "pip install -r requirements.txt\n",
    "jupyter notebook\n",
    "```\n",
    "\n",
    "#### PyCharm\n",
    "```bash\n",
    "Download git repo\n",
    "Open project in pycharm\n",
    "```\n",
    "\n",
    "#### [Binder](https://github.com/libklein/mfms-ss21)"
   ]
  },
  {
   "cell_type": "markdown",
   "metadata": {
    "pycharm": {
     "name": "#%% md\n"
    },
    "slideshow": {
     "slide_type": "subslide"
    }
   },
   "source": [
    "## Live Coding Session 1 - Agenda\n",
    "\n",
    "#### NetworkX\n",
    "* Concepts\n",
    "* Working with graphs\n",
    "* Handling Data\n",
    "\n",
    "#### OSMnX\n",
    "* Concepts\n",
    "* Fetching geometry\n",
    "* Generating street networks\n",
    "* Routing\n",
    "\n",
    "#### Implementation: diet aware routing"
   ]
  },
  {
   "cell_type": "markdown",
   "metadata": {
    "slideshow": {
     "slide_type": "slide"
    }
   },
   "source": [
    "# NetworkX\n",
    "\n",
    "> NetworkX is a Python package for the creation, manipulation, and study of the structure, dynamics, and functions of complex networks.\n",
    "\n",
    "* Provides classes that let us treat graphs as high-level python objects\n",
    "* Implements many well-known algorithms on top of these\n",
    "    * Shortest-path\n",
    "    * Network flow\n",
    "    * Clustering\n",
    "    * ... and many more\n",
    "* Visualization using matplotlib\n",
    "* (Advanced) network analysis\n",
    "* Tools for (de-)serialization"
   ]
  },
  {
   "cell_type": "markdown",
   "metadata": {
    "pycharm": {
     "name": "#%% md\n"
    },
    "slideshow": {
     "slide_type": "slide"
    }
   },
   "source": [
    "## NetworkX - Concepts\n",
    "\n",
    "Picture of graph from VL"
   ]
  },
  {
   "cell_type": "markdown",
   "metadata": {
    "slideshow": {
     "slide_type": "fragment"
    }
   },
   "source": [
    "Picture of Graph"
   ]
  },
  {
   "cell_type": "markdown",
   "metadata": {
    "slideshow": {
     "slide_type": "fragment"
    }
   },
   "source": [
    "| Networkx Class | Type       | Self-loops allowed | Parallel edges allowed |\n",
    "| :- | :-: | :-: | :-: |\n",
    "| `Graph()`          | undirected | Yes                | No                     |\n",
    "| `DiGraph()`        | directed   | Yes                | No                     |\n",
    "| `MultiGraph()`     | undirected | Yes                | Yes                    |\n",
    "| `MultiDiGraph()`   | directed   | Yes                | Yes                    |"
   ]
  },
  {
   "cell_type": "markdown",
   "metadata": {
    "slideshow": {
     "slide_type": "fragment"
    }
   },
   "source": [
    "*Ordered* versions of these exist."
   ]
  },
  {
   "cell_type": "markdown",
   "metadata": {
    "pycharm": {
     "name": "#%%\n"
    },
    "slideshow": {
     "slide_type": "slide"
    }
   },
   "source": [
    "## Working with graphs"
   ]
  },
  {
   "cell_type": "code",
   "execution_count": 1,
   "metadata": {
    "slideshow": {
     "slide_type": "fragment"
    }
   },
   "outputs": [],
   "source": [
    "import networkx as nx"
   ]
  },
  {
   "cell_type": "markdown",
   "metadata": {},
   "source": [
    "### Creation"
   ]
  },
  {
   "cell_type": "code",
   "execution_count": 2,
   "metadata": {
    "slideshow": {
     "slide_type": "fragment"
    }
   },
   "outputs": [],
   "source": [
    "# Create an empty graph\n",
    "G = nx.Graph()"
   ]
  },
  {
   "cell_type": "markdown",
   "metadata": {
    "slideshow": {
     "slide_type": "fragment"
    }
   },
   "source": [
    "#### Nodes"
   ]
  },
  {
   "cell_type": "code",
   "execution_count": 3,
   "metadata": {
    "slideshow": {
     "slide_type": "fragment"
    }
   },
   "outputs": [
    {
     "name": "stdout",
     "output_type": "stream",
     "text": [
      "['Max', 'Gerhard', 'Patrick', 'Marianne', frozenset({'Max', 'Patrick', 'Marianne', 'Gerhard'})]\n"
     ]
    }
   ],
   "source": [
    "# Add some nodes\n",
    "G.add_node('Max')\n",
    "# Add nodes from iterable\n",
    "G.add_nodes_from(['Gerhard', 'Patrick', 'Marianne'])\n",
    "# Can be any hashable (https://docs.python.org/3/glossary.html#term-hashable) type\n",
    "mfms_team = frozenset(['Patrick', 'Gerhard', 'Max', 'Marianne'])\n",
    "G.add_node(mfms_team)\n",
    "# Type dynamically\n",
    "G.add_node('Max')\n",
    "print(G.nodes)"
   ]
  },
  {
   "cell_type": "markdown",
   "metadata": {
    "slideshow": {
     "slide_type": "fragment"
    }
   },
   "source": [
    "#### Edges"
   ]
  },
  {
   "cell_type": "code",
   "execution_count": 4,
   "metadata": {
    "slideshow": {
     "slide_type": "fragment"
    }
   },
   "outputs": [
    {
     "name": "stdout",
     "output_type": "stream",
     "text": [
      "[('Max', 'Patrick'), ('Max', 'Marianne'), ('Max', 'Gerhard'), ('Gerhard', 'Marianne')]\n",
      "['Max', 'Gerhard', 'Patrick', 'Marianne', frozenset({'Max', 'Patrick', 'Marianne', 'Gerhard'}), 2] [('Max', 'Patrick'), ('Max', 'Marianne'), ('Max', 'Gerhard'), ('Gerhard', 'Marianne')]\n"
     ]
    }
   ],
   "source": [
    "G.add_edge('Patrick', 'Max')\n",
    "G.add_edges_from([('Max', 'Marianne'), ('Gerhard', 'Marianne'), ('Max', 'Gerhard')])\n",
    "\n",
    "print(G.edges)"
   ]
  },
  {
   "cell_type": "code",
   "execution_count": null,
   "metadata": {
    "slideshow": {
     "slide_type": "notes"
    }
   },
   "outputs": [],
   "source": [
    "# Type dynamically\n",
    "# Be careful: Non-existent nodes are added automatically\n",
    "G.add_edge(1, 2)\n",
    "G.remove_node(1)\n",
    "print(G.nodes, G.edges)\n",
    "G.remove_node(2)\n",
    "G.remove_node(mfms_team)"
   ]
  },
  {
   "cell_type": "markdown",
   "metadata": {
    "slideshow": {
     "slide_type": "slide"
    }
   },
   "source": [
    "## Working with graphs\n",
    "\n",
    "### Displaying graphs"
   ]
  },
  {
   "cell_type": "markdown",
   "metadata": {
    "slideshow": {
     "slide_type": "fragment"
    }
   },
   "source": [
    "Info gives a nice overview on the graph:"
   ]
  },
  {
   "cell_type": "code",
   "execution_count": 5,
   "metadata": {
    "scrolled": true,
    "slideshow": {
     "slide_type": "-"
    }
   },
   "outputs": [
    {
     "name": "stdout",
     "output_type": "stream",
     "text": [
      "Name: \n",
      "Type: Graph\n",
      "Number of nodes: 4\n",
      "Number of edges: 4\n",
      "Average degree:   2.0000\n"
     ]
    }
   ],
   "source": [
    "print(nx.info(G))"
   ]
  },
  {
   "cell_type": "markdown",
   "metadata": {
    "slideshow": {
     "slide_type": "fragment"
    }
   },
   "source": [
    "For small graphs, drawing works well too:"
   ]
  },
  {
   "cell_type": "code",
   "execution_count": 6,
   "metadata": {
    "slideshow": {
     "slide_type": "-"
    }
   },
   "outputs": [
    {
     "data": {
      "image/png": "[encoded data removed]",
      "text/plain": [
       "<Figure size 432x288 with 1 Axes>"
      ]
     },
     "metadata": {},
     "output_type": "display_data"
    }
   ],
   "source": [
    "nx.draw(G, with_labels=True)"
   ]
  },
  {
   "cell_type": "markdown",
   "metadata": {
    "slideshow": {
     "slide_type": "fragment"
    }
   },
   "source": [
    "### Accessing elements"
   ]
  },
  {
   "cell_type": "code",
   "execution_count": 7,
   "metadata": {
    "slideshow": {
     "slide_type": "-"
    }
   },
   "outputs": [
    {
     "data": {
      "image/png": "[encoded data removed]",
      "text/plain": [
       "<Figure size 432x288 with 1 Axes>"
      ]
     },
     "metadata": {},
     "output_type": "display_data"
    }
   ],
   "source": [
    "nx.draw(G, with_labels=True)"
   ]
  },
  {
   "cell_type": "code",
   "execution_count": 8,
   "metadata": {
    "slideshow": {
     "slide_type": "-"
    }
   },
   "outputs": [
    {
     "name": "stdout",
     "output_type": "stream",
     "text": [
      "Nodes of G: ['Max', 'Gerhard', 'Patrick', 'Marianne']\n",
      "Edges of G: [('Max', 'Patrick'), ('Max', 'Marianne'), ('Max', 'Gerhard'), ('Gerhard', 'Marianne')]\n",
      "Adjacency lists of nodes:  {'Max': {'Patrick': {}, 'Marianne': {}, 'Gerhard': {}}, 'Gerhard': {'Marianne': {}, 'Max': {}}, 'Patrick': {'Max': {}}, 'Marianne': {'Max': {}, 'Gerhard': {}}}\n",
      "Neighborhood ['Max'] vs Adjacency {'Max': {}}\n",
      "Degrees of nodes in G:  [('Max', 3), ('Gerhard', 2), ('Patrick', 1), ('Marianne', 2)] <=> [('Max', 3), ('Gerhard', 2), ('Patrick', 1), ('Marianne', 2)]\n"
     ]
    }
   ],
   "source": [
    "# G.nodes, G.edges, G.adj and G.degree\n",
    "print('Nodes of G:', G.nodes) # \"View\" of nodes\n",
    "print('Edges of G:', G.edges) # \"View\" of edges\n",
    "print('Adjacency lists of nodes: ', G.adj)\n",
    "print('Neighborhood', list(G.neighbors('Patrick')), 'vs Adjacency', G.adj['Patrick'])\n",
    "print('Degrees of nodes in G: ', G.degree, '<=>', [(node, len(neighbors)) for node, neighbors in G.adj.items()])"
   ]
  },
  {
   "cell_type": "code",
   "execution_count": 9,
   "metadata": {
    "slideshow": {
     "slide_type": "fragment"
    }
   },
   "outputs": [
    {
     "name": "stdout",
     "output_type": "stream",
     "text": [
      "{}\n",
      "{}\n"
     ]
    }
   ],
   "source": [
    "# Look like lists, but behave like dictionaries\n",
    "print(G.nodes['Patrick'])\n",
    "print(G.edges['Patrick', 'Max'])"
   ]
  },
  {
   "cell_type": "code",
   "execution_count": 10,
   "metadata": {
    "slideshow": {
     "slide_type": "notes"
    }
   },
   "outputs": [
    {
     "ename": "KeyError",
     "evalue": "0",
     "output_type": "error",
     "traceback": [
      "\u001b[0;31m---------------------------------------------------------------------------\u001b[0m",
      "\u001b[0;31mKeyError\u001b[0m                                  Traceback (most recent call last)",
      "\u001b[0;32m<ipython-input-10-a59e355e2bb5>\u001b[0m in \u001b[0;36m<module>\u001b[0;34m\u001b[0m\n\u001b[0;32m----> 1\u001b[0;31m \u001b[0mprint\u001b[0m\u001b[0;34m(\u001b[0m\u001b[0mG\u001b[0m\u001b[0;34m.\u001b[0m\u001b[0mnodes\u001b[0m\u001b[0;34m[\u001b[0m\u001b[0;36m0\u001b[0m\u001b[0;34m]\u001b[0m\u001b[0;34m)\u001b[0m\u001b[0;34m\u001b[0m\u001b[0;34m\u001b[0m\u001b[0m\n\u001b[0m",
      "\u001b[0;32m/usr/lib/python3.9/site-packages/networkx/classes/reportviews.py\u001b[0m in \u001b[0;36m__getitem__\u001b[0;34m(self, n)\u001b[0m\n\u001b[1;32m    185\u001b[0m \u001b[0;34m\u001b[0m\u001b[0m\n\u001b[1;32m    186\u001b[0m     \u001b[0;32mdef\u001b[0m \u001b[0m__getitem__\u001b[0m\u001b[0;34m(\u001b[0m\u001b[0mself\u001b[0m\u001b[0;34m,\u001b[0m \u001b[0mn\u001b[0m\u001b[0;34m)\u001b[0m\u001b[0;34m:\u001b[0m\u001b[0;34m\u001b[0m\u001b[0;34m\u001b[0m\u001b[0m\n\u001b[0;32m--> 187\u001b[0;31m         \u001b[0;32mreturn\u001b[0m \u001b[0mself\u001b[0m\u001b[0;34m.\u001b[0m\u001b[0m_nodes\u001b[0m\u001b[0;34m[\u001b[0m\u001b[0mn\u001b[0m\u001b[0;34m]\u001b[0m\u001b[0;34m\u001b[0m\u001b[0;34m\u001b[0m\u001b[0m\n\u001b[0m\u001b[1;32m    188\u001b[0m \u001b[0;34m\u001b[0m\u001b[0m\n\u001b[1;32m    189\u001b[0m     \u001b[0;31m# Set methods\u001b[0m\u001b[0;34m\u001b[0m\u001b[0;34m\u001b[0m\u001b[0;34m\u001b[0m\u001b[0m\n",
      "\u001b[0;31mKeyError\u001b[0m: 0"
     ]
    }
   ],
   "source": [
    "# For example, integer indices wont work. Unless we've added an appropiate edge.\n",
    "print(G.nodes[0])"
   ]
  },
  {
   "cell_type": "markdown",
   "metadata": {
    "slideshow": {
     "slide_type": "slide"
    }
   },
   "source": [
    "## Handling data\n",
    "\n",
    "We can store data on nodes and edges by setting ***attributes***."
   ]
  },
  {
   "cell_type": "code",
   "execution_count": 11,
   "metadata": {
    "slideshow": {
     "slide_type": "fragment"
    }
   },
   "outputs": [
    {
     "name": "stdout",
     "output_type": "stream",
     "text": [
      "{'role': 'Lecturer'}\n",
      "{'relationship': 'supervises'}\n"
     ]
    }
   ],
   "source": [
    "# Store role=Lecturer on node Max\n",
    "G.nodes['Max']['role'] = 'Lecturer'\n",
    "print(G.nodes['Max'])\n",
    "\n",
    "# Add value 'supervises' to key 'relationship' of edge dict.\n",
    "G.edges['Max', 'Patrick']['relationship'] = 'supervises'\n",
    "print(G.edges['Max', 'Patrick'])"
   ]
  },
  {
   "cell_type": "markdown",
   "metadata": {
    "slideshow": {
     "slide_type": "fragment"
    }
   },
   "source": [
    "=> We can think of ***Attributes*** as dictionaries kept along nodes and edges."
   ]
  },
  {
   "cell_type": "code",
   "execution_count": 12,
   "metadata": {
    "slideshow": {
     "slide_type": "fragment"
    }
   },
   "outputs": [
    {
     "name": "stdout",
     "output_type": "stream",
     "text": [
      "{'Patrick': {'relationship': 'supervises'}, 'Marianne': {}, 'Gerhard': {}}\n",
      "[('Max', {'role': 'Lecturer'}), ('Gerhard', {}), ('Patrick', {}), ('Marianne', {})]\n",
      "[('Max', 'Lecturer'), ('Gerhard', None), ('Patrick', None), ('Marianne', None)]\n",
      "[('Max', 'Patrick', {'relationship': 'supervises'}), ('Max', 'Marianne', {}), ('Max', 'Gerhard', {}), ('Gerhard', 'Marianne', {})]\n"
     ]
    }
   ],
   "source": [
    "# Data can also be accessed through views\n",
    "print(G.adj['Max'])\n",
    "print(G.nodes(data=True))\n",
    "print(G.nodes('role'))\n",
    "print(G.edges(data=True))"
   ]
  },
  {
   "cell_type": "code",
   "execution_count": 13,
   "metadata": {
    "slideshow": {
     "slide_type": "fragment"
    }
   },
   "outputs": [
    {
     "name": "stdout",
     "output_type": "stream",
     "text": [
      "[('Max', {'role': 'Lecturer'}), ('Gerhard', {'role': 'Tutor'}), ('Patrick', {'role': 'Tutor'}), ('Marianne', {'role': 'Tutor'})]\n"
     ]
    }
   ],
   "source": [
    "# Set role for everyone except max to \"Assistant\"\n",
    "for node, data in G.nodes(data=True):\n",
    "    if node != 'Max':\n",
    "        data['role'] = 'Tutor'\n",
    "        \n",
    "print(G.nodes(data=True))"
   ]
  }
 ],
 "metadata": {
  "celltoolbar": "Slideshow",
  "kernelspec": {
   "display_name": "PyCharm (live-coding-tutorial)",
   "language": "python",
   "name": "pycharm-3608ea3f"
  },
  "language_info": {
   "codemirror_mode": {
    "name": "ipython",
    "version": 3
   },
   "file_extension": ".py",
   "mimetype": "text/x-python",
   "name": "python",
   "nbconvert_exporter": "python",
   "pygments_lexer": "ipython3",
   "version": "3.9.2"
  },
  "varInspector": {
   "cols": {
    "lenName": 16,
    "lenType": 16,
    "lenVar": 40
   },
   "kernels_config": {
    "python": {
     "delete_cmd_postfix": "",
     "delete_cmd_prefix": "del ",
     "library": "var_list.py",
     "varRefreshCmd": "print(var_dic_list())"
    },
    "r": {
     "delete_cmd_postfix": ") ",
     "delete_cmd_prefix": "rm(",
     "library": "var_list.r",
     "varRefreshCmd": "cat(var_dic_list()) "
    }
   },
   "types_to_exclude": [
    "module",
    "function",
    "builtin_function_or_method",
    "instance",
    "_Feature"
   ],
   "window_display": false
  }
 },
 "nbformat": 4,
 "nbformat_minor": 4
}
